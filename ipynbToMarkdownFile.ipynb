{
 "cells": [
  {
   "cell_type": "code",
   "execution_count": 1,
   "id": "647878aa-ead7-481c-bd76-e004b46c5bcf",
   "metadata": {},
   "outputs": [
    {
     "name": "stdout",
     "output_type": "stream",
     "text": [
      "Nota Markdown gerada em: C:/Users/nonak/Documents/Thoughts\\GetNotesInfo.md\n"
     ]
    }
   ],
   "source": [
    "import os\n",
    "import nbformat\n",
    "from nbconvert import MarkdownExporter\n",
    "\n",
    "def converter_notebook_para_markdown(caminho_notebook, caminho_destino):\n",
    "    # Verifica se o caminho do notebook é válido\n",
    "    if not os.path.isfile(caminho_notebook):\n",
    "        print(f\"O caminho {caminho_notebook} não é válido.\")\n",
    "        return\n",
    "    \n",
    "    # Verifica se o diretório de destino existe, se não, cria\n",
    "    if not os.path.exists(caminho_destino):\n",
    "        os.makedirs(caminho_destino)\n",
    "\n",
    "    # Carregar o notebook com nbformat (não como uma string, mas como um objeto JSON)\n",
    "    with open(caminho_notebook, 'r', encoding='utf-8') as notebook_file:\n",
    "        notebook_content = nbformat.read(notebook_file, as_version=4)\n",
    "\n",
    "    # Usar o MarkdownExporter do nbconvert para converter o conteúdo\n",
    "    exporter = MarkdownExporter()\n",
    "    markdown, resources = exporter.from_notebook_node(notebook_content)\n",
    "\n",
    "    # Criar o caminho do arquivo de destino para o Markdown\n",
    "    nome_arquivo_markdown = os.path.splitext(os.path.basename(caminho_notebook))[0] + \".md\"\n",
    "    caminho_arquivo_markdown = os.path.join(caminho_destino, nome_arquivo_markdown)\n",
    "\n",
    "    # Salvar o conteúdo gerado em um arquivo .md\n",
    "    with open(caminho_arquivo_markdown, 'w', encoding='utf-8') as md_file:\n",
    "        md_file.write(markdown)\n",
    "\n",
    "    print(f\"Nota Markdown gerada em: {caminho_arquivo_markdown}\")\n",
    "\n",
    "# Exemplo de uso\n",
    "caminho_do_notebook = r\"C:\\Users\\nonak\\Documents\\JupyterScripts\\MarkdownObsidianScripts\\GetNotesInfo.ipynb\"\n",
    "caminho_destino = r\"C:/Users/nonak/Documents/Thoughts\"\n",
    "converter_notebook_para_markdown(caminho_do_notebook, caminho_destino)\n"
   ]
  },
  {
   "cell_type": "code",
   "execution_count": null,
   "id": "c5c5c69c-1704-4a84-a055-2c7140eb79f8",
   "metadata": {},
   "outputs": [],
   "source": []
  }
 ],
 "metadata": {
  "kernelspec": {
   "display_name": "base",
   "language": "python",
   "name": "python3"
  },
  "language_info": {
   "codemirror_mode": {
    "name": "ipython",
    "version": 3
   },
   "file_extension": ".py",
   "mimetype": "text/x-python",
   "name": "python",
   "nbconvert_exporter": "python",
   "pygments_lexer": "ipython3",
   "version": "3.12.7"
  }
 },
 "nbformat": 4,
 "nbformat_minor": 5
}
